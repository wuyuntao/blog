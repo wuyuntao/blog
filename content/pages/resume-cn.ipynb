{
 "cells": [
  {
   "cell_type": "markdown",
   "metadata": {},
   "source": [
    "## 武云焘\n",
    "\n",
    "* 出生年月： 1984-11\n",
    "* 电话： 13788986667\n",
    "* email： wyt.brandon@gmail.com\n",
    "* 主页： https://github.com/wuyuntao\n",
    "* 自我评价： 经验丰富的游戏服务端程序员。熟悉游戏逻辑业务，能和制作人、策划以及客户端程序员协调需求和技术，并带领服务端团队完成开发任务。"
   ]
  },
  {
   "cell_type": "markdown",
   "metadata": {},
   "source": [
    "## 工作技能\n",
    "\n",
    "* 编程语言：\n",
    "  * 主要： C# (4年)、Node.js (7年)\n",
    "  * 次要： Python (12年)、Scala / Java (3年)\n",
    "* 开发环境\n",
    "  * 操作系统: Linux、Windows\n",
    "  * SQL 数据库： PostgreSQL、MySQL\n",
    "  * NoSQL 数据库: MongoDB、Redis、Cassandra\n",
    "  * 消息队列: Kafka\n",
    "* 游戏编程：\n",
    "  * 服务端： Actor 并发编程模型、Event-Sourcing 编程模式、帧同步和客户端预测+航位推算等网络同步算法  \n",
    "  * 游戏逻辑：事件驱动式的行为树、NavMesh 寻路算法、2D 碰撞检测算法和射线检测算法"
   ]
  },
  {
   "cell_type": "markdown",
   "metadata": {},
   "source": [
    "## 主要项目经验\n",
    "\n",
    "**《天天撸啊撸》服务器** (2014-03 ~ 2015-12)\n",
    "\n",
    "* 基于 Unity 的 2D 卡牌游戏，玩法类似“刀塔传奇”。游戏于2014年3月立项，同年10月进行首次内测（已实现了核心战斗、副本竞技场等主要模块），历时仅6个月。已于2016年11月结束运营。\n",
    "* 服务器基于 C# + PostgreSQL 实现。开发期间独立实现了游戏的核心战斗、副本、竞技场、世界 BOSS、商店等大部分游戏逻辑模块。\n",
    "\n",
    "**3D 车辆射击类 MOBA 游戏服务器** (2016-05 ~ 2016-10)\n",
    "\n",
    "* 基于 Unity 的 3D 顶视图车辆射击类 MOBA 游戏，灵感来自于“守望先锋”+“赤色要塞”。玩家控制的车辆可以通过射击或撞击，来破坏对方玩家的车辆。游戏的玩法包括死斗，护送和占地等。\n",
    "* 我独立实现了基于客户端预测+航位推算的网络同步算法，并负责和服务端团队一起开发基于 PhysX 的车辆物理模型和其他游戏逻辑。\n",
    "* **[Nostradamus](https://github.com/wuyuntao/Nostradamus)** 是此项目网络同步算法的开源版本。\n",
    "  * 基于 Bullet3D 物理引擎实现，相比 Unity 深度绑定的 PhysX，可以更好的实现位置误差纠正算法。\n",
    "  * 基于 Event-Sourcing 模式同步客户端和服务端的状态。\n",
    "  * 用 Reliable-UDP 实现取代 TCP，可大幅提升网络稳定性。\n",
    "  \n",
    "**DVM 服务器框架** (2013-08 ~ 2017-02)\n",
    "\n",
    "* DVM 是基于 Actor 模型（如 [Erlang](https://en.wikipedia.org/wiki/Erlang_(programming_language)) 和 [Akka](http://akka.io/)）的高性能服务端框架，提供了简单高效的并发和分布式编程体验。\n",
    "  * 支持每秒百万级的本地 actor 消息通信。\n",
    "  * 支持基于 Kafka + Protobuf 的分布式 actor 消息通信。\n",
    "  * 支持基于 Event-Sourcing + PostgreSQL 的持久化方案。\n",
    "* 我协助之前的公司主程开发 DVM 的核心模块。之后独立实现了分布式通信机制和 Event-Sourcing 持久化方案。\n",
    "\n",
    "**行为树框架** (2016-01 ~ 2017-02)\n",
    "\n",
    "* [行为树](http://www.behaviac.com/concepts/)是一种可视化的编程工具，通常用在角色AI、角色技能、关卡逻辑等，在多个游戏项目中都被重度使用，可极大提升游戏设计的灵活性和开发效率。\n",
    "* 我独立开发了行为树的基础框架和基本节点，和策划确认行为树节点需求，以及负责和服务端团队一起开发具体的行为树节点。\n",
    "* **[BehaveAsSakura](https://github.com/wuyuntao/BehaveAsSakura)** 是此行为树框架的开源版本。\n",
    "  * 支持在 C# 服务端和 Unity 客户端运行，且保证运行结果一致。\n",
    "  * 支持数据驱动，即可热更新行为树逻辑。\n",
    "  * 支持基于 Unity Editor 的可视化编程界面，以便在运行时查看行为树状态和编辑行为树属性。\n",
    "  \n",
    "**基于定点数的2D物理引擎** (2016-01 ~ 2016-05)\n",
    "\n",
    "* 因为验证战斗过程需要保证物理引擎在客户端和服务端运行结果一致，我们基于定点数算法实现了一个简单的2D物理引擎，支持碰撞检测和射线检测。\n",
    "* 我负责实现定点数算法，以及和服务端团队一起实现矩形、圆形、多边形等形状的碰撞和射线检测算法。\n",
    "  \n",
    "**基于定点数的NavMesh寻路库** (2016-01 ~ 2016-05)\n",
    "\n",
    "* 因为验证战斗过程需要保证寻路算法在客户端和服务端运行结果一致，我们基于定点数算法实现了一个简单的 NavMesh 寻路库。\n",
    "  * 支持从 Unity NavMesh 导出寻路库使用的 NavMesh 多边形信息。\n",
    "  * 支持动态障碍物的添加、移除和层级设置。\n",
    "* 我负责和服务端团队一起实现 NavMesh 寻路库。"
   ]
  },
  {
   "cell_type": "markdown",
   "metadata": {},
   "source": [
    "## 工作经验\n",
    "\n",
    "**上海涵凌网络科技股份有限公司 服务端程序员** (2013-08 ~ 2017-02)\n",
    "\n",
    "* 开发 C# + PostgreSQL + Kafka 的分布式手游服务器的底层框架和游戏逻辑模块。\n",
    "* 负责《天天撸啊撸》和多个游戏原型项目的服务端开发和运维。\n",
    "* 负责和制作人、策划、客户端程序员协调游戏的需求和技术。\n",
    "* 负责服务端开发团队的的任务分配、进度管理、质量控制和代码审查。\n",
    "\n",
    "**上海云观信息技术有限公司 服务端程序员** (2010-07 ~ 2013-07)\n",
    "\n",
    "* 开发 Node.js + Redis + MySQL 的手游服务器的游戏逻辑模块。\n",
    "* 开发 Node.js + MongoDB 的游戏日志采集和数据分析系统。\n",
    "\n",
    "**苏州日进模具有限公司 服务端程序员** (2007-08 ~ 2010-06)\n",
    "\n",
    "* 开发和维护公司内部网站。\n"
   ]
  },
  {
   "cell_type": "markdown",
   "metadata": {},
   "source": [
    "## 教育经验\n",
    "\n",
    "**北京理工大学 自动控制系 自动化专业 本科学位** (2003-09 ~ 2007-07)"
   ]
  }
 ],
 "metadata": {
  "kernelspec": {
   "display_name": "Python 3",
   "language": "python",
   "name": "python3"
  },
  "language_info": {
   "codemirror_mode": {
    "name": "ipython",
    "version": 3
   },
   "file_extension": ".py",
   "mimetype": "text/x-python",
   "name": "python",
   "nbconvert_exporter": "python",
   "pygments_lexer": "ipython3",
   "version": "3.5.2"
  }
 },
 "nbformat": 4,
 "nbformat_minor": 2
}
